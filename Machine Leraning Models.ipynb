{
 "cells": [
  {
   "cell_type": "code",
   "execution_count": 40,
   "metadata": {},
   "outputs": [],
   "source": [
    "# -*- coding: utf-8 -*-\n",
    "import pandas as pd\n",
    "import numpy as np\n",
    "from sklearn.model_selection import train_test_split\n",
    "from sklearn.metrics import classification_report, accuracy_score\n",
    "from sklearn.model_selection import GridSearchCV\n",
    "import pydot\n",
    "from io import StringIO\n",
    "from sklearn.tree import export_graphviz\n",
    "#from dm_tools import data_prep\n",
    "from sklearn.preprocessing import StandardScaler\n",
    "from sklearn.neural_network import MLPClassifier\n",
    "from sklearn.model_selection import train_test_split\n",
    "from sklearn.tree import DecisionTreeClassifier\n",
    "from sklearn.metrics import classification_report, accuracy_score\n",
    "from collections import Counter\n",
    "from sklearn.tree import DecisionTreeClassifier\n",
    "from sklearn.metrics import classification_report, accuracy_score\n",
    "from sklearn.feature_extraction.text import CountVectorizer\n",
    "from imblearn.over_sampling import SMOTE\n",
    "from imblearn.under_sampling import ClusterCentroids\n",
    "from sklearn.neural_network import MLPClassifier\n",
    "import matplotlib.pyplot as plt\n",
    "import seaborn as sns\n",
    "from sklearn.linear_model import LogisticRegression\n",
    "from sklearn.metrics import roc_auc_score\n",
    "from sklearn.metrics import roc_curve"
   ]
  },
  {
   "cell_type": "code",
   "execution_count": 5,
   "metadata": {},
   "outputs": [],
   "source": [
    "df = pd.read_csv(r'C:\\Users\\n10180893\\Downloads\\FinalData.txt',names=['Subject','Object','Predicate','Factorise','Target','Yp'])\n",
    "df = df.drop(index=0)\n",
    "\n",
    "X = df[['Subject','Object','Predicate','Yp']]\n",
    "y = df.Target\n",
    "\n",
    "sm = SMOTE(random_state=42)\n",
    "X_res, y_res = sm.fit_sample(X, y)\n",
    "\n",
    "Y_res_ALS = y_res.astype(float)\n",
    "\n",
    "Y_pred_ALS = X_res[:,3]"
   ]
  },
  {
   "cell_type": "code",
   "execution_count": 54,
   "metadata": {},
   "outputs": [
    {
     "name": "stdout",
     "output_type": "stream",
     "text": [
      "              precision    recall  f1-score   support\n",
      "\n",
      "         0.0       1.00      0.88      0.94     11986\n",
      "         1.0       0.89      1.00      0.94     11986\n",
      "\n",
      "   micro avg       0.94      0.94      0.94     23972\n",
      "   macro avg       0.95      0.94      0.94     23972\n",
      "weighted avg       0.95      0.94      0.94     23972\n",
      "\n",
      "ROC index on CP ALS: 0.9398882029033873\n"
     ]
    },
    {
     "data": {
      "text/plain": [
       "[<matplotlib.lines.Line2D at 0x1c6822b6dd8>]"
      ]
     },
     "execution_count": 54,
     "metadata": {},
     "output_type": "execute_result"
    },
    {
     "data": {
      "image/png": "[encoded data removed]",
      "text/plain": [
       "<Figure size 432x288 with 1 Axes>"
      ]
     },
     "metadata": {
      "needs_background": "light"
     },
     "output_type": "display_data"
    }
   ],
   "source": [
    "print(classification_report(Y_res_ALS, Y_pred_ALS))\n",
    "\n",
    "roc_index_als = roc_auc_score(Y_res_ALS, Y_pred_ALS)\n",
    "\n",
    "\n",
    "print(\"ROC index on CP ALS:\", roc_index_dt)\n",
    "\n",
    "import matplotlib.pyplot as plt\n",
    "fpr_als, tpr_als, thresholds_als = roc_curve(Y_res_ALS, Y_pred_ALS)\n",
    "plt.plot(fpr_als, tpr_als, label='ROC Curve for LR {:.3f}'.format(roc_index_als), color='red', lw=0.5)\n"
   ]
  },
  {
   "cell_type": "code",
   "execution_count": 47,
   "metadata": {
    "scrolled": true
   },
   "outputs": [
    {
     "name": "stdout",
     "output_type": "stream",
     "text": [
      "Train accuracy: 0.5612038140643624\n",
      "Test accuracy: 0.5599276974416018\n",
      "              precision    recall  f1-score   support\n",
      "\n",
      "           0       0.56      0.55      0.55      3596\n",
      "           1       0.56      0.57      0.57      3596\n",
      "\n",
      "   micro avg       0.56      0.56      0.56      7192\n",
      "   macro avg       0.56      0.56      0.56      7192\n",
      "weighted avg       0.56      0.56      0.56      7192\n",
      "\n",
      "{'C': 0.001}\n",
      "ROC index on Logistic Regression 0.5599276974416019\n"
     ]
    },
    {
     "name": "stderr",
     "output_type": "stream",
     "text": [
      "C:\\Users\\n10180893\\AppData\\Local\\Continuum\\anaconda3\\lib\\site-packages\\sklearn\\linear_model\\logistic.py:433: FutureWarning: Default solver will be changed to 'lbfgs' in 0.22. Specify a solver to silence this warning.\n",
      "  FutureWarning)\n"
     ]
    },
    {
     "data": {
      "text/plain": [
       "[<matplotlib.lines.Line2D at 0x1c681e57748>]"
      ]
     },
     "execution_count": 47,
     "metadata": {},
     "output_type": "execute_result"
    },
    {
     "data": {
      "image/png": "[encoded data removed]",
      "text/plain": [
       "<Figure size 432x288 with 1 Axes>"
      ]
     },
     "metadata": {
      "needs_background": "light"
     },
     "output_type": "display_data"
    }
   ],
   "source": [
    "df = pd.read_csv(r'C:\\Users\\n10180893\\Downloads\\data.txt',names=['s','p','o','f','t','f1'])\n",
    "df = df.drop(index=0)\n",
    "\n",
    "X = df[['s','p','o']]\n",
    "y = df.t\n",
    "rs=10\n",
    "#Split the data based on training and testing with 70 and 30%\n",
    "\n",
    "sm = SMOTE(random_state=42)\n",
    "X_res, y_res = sm.fit_sample(X, y)\n",
    "\n",
    "X_train_LR, X_test_LR, y_train_LR, y_test_LR = train_test_split(X_res, y_res, test_size=0.3, stratify=y_res, random_state=rs)\n",
    "\n",
    "# grid search CV\n",
    "params = {'C': [pow(10, x) for x in range(-6, 4)]}\n",
    "\n",
    "# use all cores to tune logistic regression with C parameter\n",
    "cv = GridSearchCV(param_grid=params, estimator=LogisticRegression(random_state=rs), cv=10, n_jobs=-1)\n",
    "cv.fit(X_train_LR, y_train_LR)\n",
    "\n",
    "# test the best model\n",
    "print(\"Train accuracy:\", cv.score(X_train_LR, y_train_LR))\n",
    "print(\"Test accuracy:\", cv.score(X_test_LR, y_test_LR))\n",
    "\n",
    "y_pred_LR = cv.predict(X_test_LR)\n",
    "print(classification_report(y_test_LR, y_pred_LR))\n",
    "\n",
    "# print parameters of the best model\n",
    "print(cv.best_params_)\n",
    "\n",
    "y_test_LR = y_test_LR.astype(float)\n",
    "y_pred_LR = y_pred_LR.astype(float)\n",
    "\n",
    "roc_index_LR = roc_auc_score(y_test_LR, y_pred_LR)\n",
    "\n",
    "print(\"ROC index on Logistic Regression\", roc_index_LR)\n",
    "fpr_LR, tpr_LR, thresholds_LR = roc_curve(y_test_LR, y_pred_LR)\n",
    "plt.plot(fpr_LR, tpr_LR, label='ROC Curve for LR {:.3f}'.format(roc_index_LR), color='red', lw=0.5)"
   ]
  },
  {
   "cell_type": "code",
   "execution_count": 59,
   "metadata": {},
   "outputs": [
    {
     "name": "stdout",
     "output_type": "stream",
     "text": [
      "Train accuracy: 0.5612038140643624\n",
      "Test accuracy: 0.5599276974416018\n",
      "              precision    recall  f1-score   support\n",
      "\n",
      "           0       0.56      0.55      0.55      3596\n",
      "           1       0.56      0.57      0.57      3596\n",
      "\n",
      "   micro avg       0.56      0.56      0.56      7192\n",
      "   macro avg       0.56      0.56      0.56      7192\n",
      "weighted avg       0.56      0.56      0.56      7192\n",
      "\n",
      "{'C': 0.001}\n",
      "ROC index on Decision Tree: 0.5599276974416019\n",
      "Number of nodes:  311\n"
     ]
    },
    {
     "data": {
      "image/png": "[encoded data removed]",
      "text/plain": [
       "<Figure size 432x288 with 1 Axes>"
      ]
     },
     "metadata": {
      "needs_background": "light"
     },
     "output_type": "display_data"
    }
   ],
   "source": [
    "df = pd.read_csv(r'C:\\Users\\n10180893\\Downloads\\data.txt',names=['s','p','o','f','t','f1'])\n",
    "df = df.drop(index=0)\n",
    "\n",
    "X = df[['s','p','o']]\n",
    "y = df.t\n",
    "rs=10\n",
    "#Split the data based on training and testing with 70 and 30%\n",
    "\n",
    "sm = SMOTE(random_state=42)\n",
    "X_res, y_res = sm.fit_sample(X, y)\n",
    "\n",
    "X_train_DT, X_test_DT, y_train_DT, y_test_DT = train_test_split(X_res, y_res, test_size=0.3, stratify=y_res, random_state=rs)\n",
    "\n",
    "params = {'criterion': ['gini', 'entropy'],\n",
    "          'max_depth': range(2, 30,5),\n",
    "          'min_samples_leaf': range(10,40, 5)}\n",
    "\n",
    "cv_dt = GridSearchCV(param_grid=params, estimator=DecisionTreeClassifier(random_state=rs), cv=10)\n",
    "cv_dt.fit(X_train_DT, y_train_DT)\n",
    "\n",
    "print(\"Train accuracy:\", cv.score(X_train_DT, y_train_DT))\n",
    "print(\"Test accuracy:\", cv.score(X_test_DT, y_test_DT))\n",
    "\n",
    "# test the best model\n",
    "y_pred_DT = cv.predict(X_test_DT)\n",
    "print(classification_report(y_test_DT, y_pred_DT))\n",
    "\n",
    "# print parameters of the best model\n",
    "print(cv.best_params_)\n",
    "\n",
    "y_test_DT = y_test_DT.astype(float)\n",
    "y_pred_DT = y_pred_DT.astype(float)\n",
    "y_train_DT = y_train_DT.astype(float)\n",
    "\n",
    "roc_index_DT = roc_auc_score(y_test_DT, y_pred_DT)\n",
    "\n",
    "print(\"ROC index on Decision Tree:\", roc_index_DT)\n",
    "\n",
    "\n",
    "test_score = []\n",
    "train_score = []\n",
    "\n",
    "# check the model performance for max depth from 2-20\n",
    "for max_depth in range(2, 11):\n",
    "    model = DecisionTreeClassifier(max_depth=max_depth, random_state=rs)\n",
    "    model.fit(X_train_DT, y_train_DT)\n",
    "    test_score.append(model.score(X_test_DT, y_test_DT))\n",
    "    train_score.append(model.score(X_train_DT, y_train_DT))\n",
    "    \n",
    "# plot max depth hyperparameter values vs training and test accuracy score\n",
    "print(\"Number of nodes: \",model.tree_.node_count)\n",
    "plt.plot(range(2, 11), train_score, 'b', range(2,11), test_score, 'r')\n",
    "plt.xlabel('max_depth\\nBlue = training acc. Red = test acc.')\n",
    "plt.ylabel('accuracy')\n",
    "plt.show()"
   ]
  },
  {
   "cell_type": "code",
   "execution_count": 53,
   "metadata": {},
   "outputs": [
    {
     "name": "stdout",
     "output_type": "stream",
     "text": [
      "ROC index on Decision Tree: 0.6942436040044493\n",
      "ROC index on Logistic Regression 0.5599276974416019\n"
     ]
    },
    {
     "data": {
      "text/plain": [
       "[<matplotlib.lines.Line2D at 0x1c6835c0e48>]"
      ]
     },
     "execution_count": 53,
     "metadata": {},
     "output_type": "execute_result"
    },
    {
     "data": {
      "image/png": "[encoded data removed]",
      "text/plain": [
       "<Figure size 432x288 with 1 Axes>"
      ]
     },
     "metadata": {
      "needs_background": "light"
     },
     "output_type": "display_data"
    }
   ],
   "source": [
    "print(\"ROC index on Decision Tree:\", roc_index_DT)\n",
    "print(\"ROC index on Logistic Regression\", roc_index_LR)\n",
    "fpr_dt, tpr_dt, thresholds_dt = roc_curve(y_test_DT, y_pred_DT)\n",
    "plt.plot(fpr_dt, tpr_dt, label='ROC Curve for LR {:.3f}'.format(roc_index_DT), color='red', lw=0.5)"
   ]
  },
  {
   "cell_type": "code",
   "execution_count": 56,
   "metadata": {},
   "outputs": [
    {
     "data": {
      "image/png": "[encoded data removed]",
      "text/plain": [
       "<Figure size 432x288 with 1 Axes>"
      ]
     },
     "metadata": {
      "needs_background": "light"
     },
     "output_type": "display_data"
    }
   ],
   "source": [
    "plt.plot(fpr_als, tpr_als, label='ROC Curve for ALS {:.3f}'.format(roc_index_als), color='red', lw=0.5)\n",
    "plt.plot(fpr_LR, tpr_LR, label='ROC Curve for LR {:.3f}'.format(roc_index_LR), color='red', lw=0.5)\n",
    "plt.plot(fpr_dt, tpr_dt, label='ROC Curve for DT {:.3f}'.format(roc_index_DT), color='orange', lw=0.5)\n",
    "plt.plot([0, 1], [0, 1], color='navy', lw=0.5, linestyle='--')\n",
    "plt.xlim([0.0, 1.0])\n",
    "plt.ylim([0.0, 1.0])\n",
    "plt.xlabel('False Positive Rate')\n",
    "plt.ylabel('True Positive Rate')\n",
    "plt.title('Receiver operating characteristic example')\n",
    "plt.legend(loc=\"lower right\")\n",
    "plt.show()"
   ]
  },
  {
   "cell_type": "code",
   "execution_count": 60,
   "metadata": {},
   "outputs": [],
   "source": [
    "from sklearn.ensemble import VotingClassifier\n",
    "voting = VotingClassifier(estimators=[('LR', cv), ('DT', cv_dt)], voting='soft')"
   ]
  },
  {
   "cell_type": "code",
   "execution_count": 66,
   "metadata": {},
   "outputs": [
    {
     "name": "stderr",
     "output_type": "stream",
     "text": [
      "C:\\Users\\n10180893\\AppData\\Local\\Continuum\\anaconda3\\lib\\site-packages\\sklearn\\linear_model\\logistic.py:433: FutureWarning: Default solver will be changed to 'lbfgs' in 0.22. Specify a solver to silence this warning.\n",
      "  FutureWarning)\n"
     ]
    },
    {
     "name": "stdout",
     "output_type": "stream",
     "text": [
      "Ensemble train accuracy: 0.7106078665077473\n",
      "Ensemble test accuracy: 0.6995272525027809\n",
      "ROC score of voting classifier: 0.7711787507068167\n"
     ]
    }
   ],
   "source": [
    "# fit the voting classifier to training data\n",
    "voting.fit(X_res, y_res)\n",
    "\n",
    "# evaluate train and test accuracy\n",
    "print(\"Ensemble train accuracy:\", voting.score(X_train, y_train))\n",
    "print(\"Ensemble test accuracy:\", voting.score(X_test, y_test))\n",
    "\n",
    "# evaluate ROC auc score\n",
    "y_pred_proba_ensemble = voting.predict_proba(X_test)\n",
    "roc_index_ensemble = roc_auc_score(y_test, y_pred_proba_ensemble[:, 1])\n",
    "print(\"ROC score of voting classifier:\", roc_index_ensemble)\n",
    "\n"
   ]
  },
  {
   "cell_type": "code",
   "execution_count": null,
   "metadata": {},
   "outputs": [],
   "source": []
  }
 ],
 "metadata": {
  "kernelspec": {
   "display_name": "Python 3",
   "language": "python",
   "name": "python3"
  },
  "language_info": {
   "codemirror_mode": {
    "name": "ipython",
    "version": 3
   },
   "file_extension": ".py",
   "mimetype": "text/x-python",
   "name": "python",
   "nbconvert_exporter": "python",
   "pygments_lexer": "ipython3",
   "version": "3.7.1"
  }
 },
 "nbformat": 4,
 "nbformat_minor": 2
}
